{
 "cells": [
  {
   "cell_type": "code",
   "execution_count": 1,
   "metadata": {},
   "outputs": [],
   "source": [
    "from bs4 import BeautifulSoup"
   ]
  },
  {
   "cell_type": "code",
   "execution_count": 2,
   "metadata": {},
   "outputs": [],
   "source": [
    "artist = open(\"sample_artist.html\", \"r\")"
   ]
  },
  {
   "cell_type": "code",
   "execution_count": 3,
   "metadata": {},
   "outputs": [],
   "source": [
    "artwork = open(\"sample_artwork.html\", \"r\")"
   ]
  },
  {
   "cell_type": "code",
   "execution_count": 4,
   "metadata": {},
   "outputs": [],
   "source": [
    "soup  = BeautifulSoup(artwork.read(), \"html.parser\")"
   ]
  },
  {
   "cell_type": "code",
   "execution_count": 5,
   "metadata": {},
   "outputs": [
    {
     "data": {
      "text/plain": [
       "'\\n\\n\\n\\n\\n\\n\\n\\n\\n\\n\\n\\n\\n\\n\\n\\n\\n\\n\\n\\n\\n\\n\\n\\n\\n\\n\\n\\n\\n\\n\\n   {\"@context\":\"http:\\\\/\\\\/schema.org\",\"@type\":\"VisualArtwork\",\"name\":\"The Girl I Left Behind Me\",\"url\":\"https:\\\\/\\\\/americanart.si.edu\\\\/artwork\\\\/girl-i-left-behind-me-11492\",\"image\":\"https:\\\\/\\\\/s3.amazonaws.com\\\\/assets.saam.media\\\\/files\\\\/files\\\\/images\\\\/1986\\\\/SAAM-1986.79_2.jpg\",\"description\":\"<SPAN>A girl stands on a promontory, her hair streaming in the wind. The path before her trails off, so she must either retrace her steps or try to find her way forward. Her wedding ring speaks to a commitment to her union and a husband who has gone to war. The split-rail fence below and the fog surrounding her speak to a world fraught with division and ambivalence. Johnson’s figure appears to be waiting for some sign of what will come next. The title comes from a Regimental song. <BR><BR><I>The Civil War and American Art&lt;\\\\/I&gt;, 2012<BR><BR>&lt;\\\\/SPAN&gt;\",\"creator\":[{\"@type\":\"Person\",\"name\":\"Eastman Johnson\",\"url\":\"https:\\\\/\\\\/americanart.si.edu\\\\/artist\\\\/eastman-johnson-2473\"}],\"artMedium\":[\"oil\"],\"artform\":[\"Painting\"],\"sameAs\":\"https:\\\\/\\\\/edan.si.edu\\\\/saam\\\\/id\\\\/object\\\\/1986.79\"}\\n  \\n\\n\\n\\n   window.a2a_config=window.a2a_config||{};a2a_config.callbacks=[];a2a_config.overlays=[];a2a_config.templates={};a2a_config.icon_color = \"#000000\";\\na2a_config.color_link_text = \"333333\";\\na2a_config.color_link_text_hover = \"999999\";\\na2a_config.prioritize = [\"twitter\", \"facebook\", \"pinterest\", \"reddit\", \"email\", \"facebook_messanger\"];\\na2a_config.exclude_services = [\"tumblr\"];\\na2a_config.templates.twitter = {\\n    text: \"The Girl I Left Behind Me ${link} @americanart\",\\n    hashtags: \"[node:field_hashtag]\",\\n    related: \"@americanart\"\\n};\\n  \\n\\n   .a2a_menu, .a2a_menu_find_container { border-radius: 0 !important; }\\n  \\n\\n\\n\\n\\n\\n\\n\\n\\n\\n\\n\\n\\n\\n\\n   The Girl I Left Behind Me | Smithsonian American Art Museum\\n  \\n\\n\\n\\n\\n\\n\\n   (function(i,s,o,g,r,a,m){i[\\'GoogleAnalyticsObject\\']=r;i[r]=i[r]||function(){\\n                (i[r].q=i[r].q||[]).push(arguments)},i[r].l=1*new Date();a=s.createElement(o),\\n                m=s.getElementsByTagName(o)[0];a.async=1;a.src=g;m.parentNode.insertBefore(a,m)\\n            })(window,document,\\'script\\',\\'https://www.google-analytics.com/analytics.js\\',\\'ga\\');\\n            ga(\"create\", \"UA-2813196-1\", {\"cookieDomain\":\"auto\"});\\n            ga(\"set\", \"anonymizeIp\", true);\\n            ga(\"send\", \"pageview\");\\n  \\n\\n   window.webtrendsAsyncInit=function(){\\n                var dcs=new Webtrends.dcs().init({\\n                    dcsid:\"dcsr7dr9gbdzpxrp9x4427u6h_6w8e\",\\n                    domain:\"logs1.smithsonian.museum\",\\n                    timezone:-5,\\n                    i18n:true,\\n                    fpcdom:\".si.edu\",\\n                    plugins:{\\n                        //hm:{src:\"//s.webtrends.com/js/webtrends.hm.js\"}\\n                    }\\n                }).track();\\n            };\\n            (function(){\\n                var s=document.createElement(\"script\"); s.async=true; s.src=\"/themes/custom/muse3/js/libraries/webtrends/webtrends.min.js\";\\n                var s2=document.getElementsByTagName(\"script\")[0]; s2.parentNode.insertBefore(s,s2);\\n            }());\\n  \\n\\n\\n   cpp_value=\"SAAM\";\\n  \\n\\n   ;(function (g) {\\n                var d = document, am = d.createElement(\\'script\\'), h = d.head || d.getElementsByTagName(\"head\")[0], fsr = \\'fsReady\\',\\n                    aex = {\\n                        \"src\": \"//gateway.foresee.com/sites/smithsonian/production/gateway.min.js\",\\n                        \"type\": \"text/javascript\",\\n                        \"async\": \"true\",\\n                        \"data-vendor\": \"fs\",\\n                        \"data-role\": \"gateway\"\\n                    };\\n                for (var attr in aex){am.setAttribute(attr, aex[attr]);}h.appendChild(am);g[fsr] = function () {var aT = \\'__\\' + fsr + \\'_stk__\\';g[aT] = g[aT] || [];g[aT].push(arguments);};\\n            })(window);\\n  \\n\\n\\n\\n   Skip to main content\\n  \\n\\n\\n\\n\\n\\n\\n\\n\\n\\n\\n\\n          Smithsonian American Art Museum\\n         \\n\\n          Smithsonian American Art Museum and Renwick Gallery\\n         \\n\\n\\n\\n\\n\\n              Menu\\n             \\n\\n\\n\\n\\n\\n\\n\\n\\n\\n              Smithsonian American Art Museum\\n             \\n\\n\\n             Open Daily: 11:30 a.m.–7 p.m.\\n            \\n\\n\\n              Renwick Gallery\\n             \\n\\n\\n             Open Daily: 10:00\\xa0a.m.–5:30\\xa0p.m.\\n            \\n\\n\\n\\n\\n\\n\\n\\n\\n\\n\\n\\n\\n\\n\\n\\n\\n\\n              Visit\\n             \\n\\n\\n\\n                SAAM\\n               \\n\\n\\n\\n                Renwick Gallery\\n               \\n\\n\\n\\n                Calendar of Events\\n               \\n\\n\\n\\n                Museum Tours\\n               \\n\\n\\n\\n                Accessibility\\n               \\n\\n\\n\\n                Family-friendly Activities\\n               \\n\\n\\n\\n                Guidelines and Policies\\n               \\n\\n\\n\\n                Current Exhibitions\\n               \\n\\n\\n\\n\\n\\n              Art + Artists\\n             \\n\\n\\n\\n                Current Exhibitions\\n               \\n\\n\\n\\n                Browse Artists A-Z\\n               \\n\\n\\n\\n                Browse Artworks by Category\\n               \\n\\n\\n\\n                Browse Artists by State\\n               \\n\\n\\n\\n                Collection Highlights\\n               \\n\\n\\n\\n                Lunder Conservation Center\\n               \\n\\n\\n\\n                New Acquisitions\\n               \\n\\n\\n\\n                Rights and Reproductions\\n               \\n\\n\\n\\n                Artwork Loans\\n               \\n\\n\\n\\n                Museum Videos\\n               \\n\\n\\n\\n                Museum Books\\n               \\n\\n\\n\\n\\n\\n              Research\\n             \\n\\n\\n\\n                American Art Journal\\n               \\n\\n\\n\\n                Publication Prizes\\n               \\n\\n\\n\\n                Nam June Paik Archive\\n               \\n\\n\\n\\n                Photograph Archives\\n               \\n\\n\\n\\n                Joseph Cornell Study Center\\n               \\n\\n\\n\\n                Inventories of American Painting and Sculpture\\n               \\n\\n\\n\\n                Pre-1877 Exhibition Catalogue Index\\n               \\n\\n\\n\\n                Scholarly Symposia\\n               \\n\\n\\n\\n                Researching Your Art\\n               \\n\\n\\n\\n                Fellowships\\n               \\n\\n\\n\\n                Internships\\n               \\n\\n\\n\\n                AA/PG Library\\n               \\n\\n\\n\\n\\n\\n              Education\\n             \\n\\n\\n\\n                For K-12 Teachers\\n               \\n\\n\\n\\n                For Adult Learners\\n               \\n\\n\\n\\n                For Higher Education Instructors\\n               \\n\\n\\n\\n\\n\\n              About\\n             \\n\\n\\n\\n                Museum History\\n               \\n\\n\\n\\n                Contemporary Artist Awards\\n               \\n\\n\\n\\n                Volunteer Opportunities\\n               \\n\\n\\n\\n                Careers\\n               \\n\\n\\n\\n                Contact Us\\n               \\n\\n\\n\\n                Connect on Social Media\\n               \\n\\n\\n\\n                E-news Sign Up\\n               \\n\\n\\n\\n                Event Venues and Spaces\\n               \\n\\n\\n\\n                Press Room\\n               \\n\\n\\n\\n                Blog\\n               \\n\\n\\n\\n                Shop the Museum Stores\\n               \\n\\n\\n\\n                Videos\\n               \\n\\n\\n\\n                Webcasts\\n               \\n\\n\\n\\n\\n\\n              Donate\\n             \\n\\n\\n\\n                Join SAAM Creatives\\n               \\n\\n\\n\\n                Join the Director’s Circle\\n               \\n\\n\\n\\n                Corporate Patrons\\n               \\n\\n\\n\\n                Donating Artworks\\n               \\n\\n\\n\\n                Planned Giving\\n               \\n\\n\\n\\n\\n\\n\\n\\n                Search\\n               \\n\\n\\n\\n\\n\\n\\n\\n\\n\\n\\n\\n\\n\\n\\n\\n\\n\\n\\n\\n\\n\\n\\n\\n\\n\\n\\n\\n\\n\\n\\n\\n               Search\\n              \\n\\n\\n\\n\\n\\n\\n\\n\\n            Home\\n           \\n\\n\\n\\n            Art + Artists\\n           \\n\\n\\n\\n\\n\\n\\n\\n\\n\\n\\n\\n\\n\\n\\n           The Girl I Left Behind Me\\n          \\n\\n\\n\\n\\n\\n\\n\\n\\n\\n\\n\\n\\n\\n\\n\\n\\n\\n\\n\\n\\n\\n\\n\\n\\n\\n\\n\\n                Eastman Johnson,\\n                \\n                 The Girl I Left Behind Me\\n                \\n                , ca. 1872, oil on canvas, Smithsonian American Art Museum, Museum purchase made possible in part by Mrs. Alexander Hamilton Rice in memory of her husband and by Ralph Cross Johnson, 1986.79\\n               \\n\\n\\n\\n\\n\\n\\n                 Zoom\\n                \\n\\n\\n\\n\\n\\n\\n\\n                 Download\\n                \\n\\n\\n\\n\\n\\n\\n\\n\\n\\n\\n\\n\\n\\n\\n\\n\\n                  Close\\n                 \\n\\n\\n\\n\\n\\n\\n\\n\\n\\n\\n\\n\\n\\n\\n\\n\\n\\n                Exhibition Label\\n               \\n\\n\\n                 A girl stands on a promontory, her hair streaming in the wind. The path before her trails off, so she must either retrace her steps or try to find her way forward. Her wedding ring speaks to a commitment to her union and a husband who has gone to war. The split-rail fence below and the fog surrounding her speak to a world fraught with division and ambivalence. Johnson’s figure appears to be waiting for some sign of what will come next. The title comes from a Regimental song.\\n                 \\n\\n\\n                  The Civil War and American Art\\n                 \\n                 , 2012\\n                 \\n\\n\\n\\n\\n\\n\\n\\n\\n                Gallery Label\\n               \\n\\n                A young girl stands on a promontory, her hair streaming in the wind. The path before her ends, so she must either retrace her steps or try to find a different way forward. Johnson called this painting\\n                \\n                 The Girl I Left Behind Me\\n                \\n                , invoking an Irish ballad that was popular with both the Union and Confederate armies during the Civil War. In doing so, the artist opens the possibility that this young girl is doing more than waiting for the return of her husband. Her wedding ring, glinting in the light, speaks of commitment to her union, but is Johnson referring to her personal life or to the nation? The split-rail fence below her divides the landscape, and the fog surrounding her suggests a world fraught with ambivalence. She appears to wait for a sign of what will come next.\\n               \\n\\n\\n\\n\\n\\n                Publication Label\\n               \\n\\n\\n                 The Civil War defined America and forever changed American art. American artists of this era could not depict the conflict using the conventions of European history painting, which glamorized the hero on the battlefield. Instead, America\\'s finest painters captured the transformative impact of the war. Through landscapes and genre paintings, these artists gave voice to the nation\\'s highest ideals and deepest concerns — illustrating a time that has been described as the second American Revolution.\\n                \\n\\n\\n                  Smithsonian American Art Museum: Commemorative Guide.\\n                 \\n                 Nashville, TN: Beckon Books, 2015.\\n                \\n\\n\\n\\n\\n\\n\\n\\n               Title\\n              \\n\\n\\n                The Girl I Left Behind Me\\n               \\n\\n\\n               Artist\\n              \\n\\n\\n\\n                 Eastman Johnson\\n                \\n\\n\\n\\n               Date\\n              \\n\\n               ca. 1872\\n              \\n\\n               On View\\n              \\n\\n\\n\\n\\n                  Smithsonian American Art Museum\\n                 \\n\\n\\n\\n                  2nd Floor\\n                 \\n\\n\\n\\n                  East Wing\\n                 \\n\\n\\n\\n\\n               Dimensions\\n              \\n\\n\\n                42 x 34 7/8 in. (106.7 x 88.7 cm.)\\n               \\n\\n\\n               Copyright\\n              \\n\\n\\n\\n               Credit Line\\n              \\n\\n\\n                Smithsonian American Art Museum\\n               \\n\\n                Museum purchase made possible in part by Mrs. Alexander Hamilton Rice in memory of her husband and by Ralph Cross Johnson\\n               \\n\\n\\n               Mediums\\n              \\n\\n\\n\\n\\n                  oil\\n                 \\n\\n\\n\\n\\n               Mediums Description\\n              \\n\\n               oil on canvas\\n              \\n\\n               Classifications\\n              \\n\\n\\n\\n\\n                  Painting\\n                 \\n\\n\\n\\n\\n               Keywords\\n              \\n\\n\\n\\n                 Figure female\\n                \\n\\n                 Landscape – weather – wind\\n                \\n\\n                 History – United States – Civil War\\n                \\n\\n                 State of being – emotion – fear\\n                \\n\\n                 Figure female – full length\\n                \\n\\n                 Object – written matter – book\\n                \\n\\n\\n\\n               Object Number\\n              \\n\\n\\n                1986.79\\n               \\n\\n\\n               Palette\\n              \\n\\n\\n\\n\\n\\n                   #A59E82\\n                  \\n\\n\\n\\n                   #382C16\\n                  \\n\\n\\n\\n                   #7B6735\\n                  \\n\\n\\n\\n                   #82361C\\n                  \\n\\n\\n\\n                   #EEE6DB\\n                  \\n\\n\\n\\n\\n\\n               Linked Open Data\\n              \\n\\n\\n                Linked Open Data URI\\n               \\n\\n\\n\\n\\n\\n\\n\\n\\n\\n\\n\\n\\n\\n\\n\\n\\n\\n          More from artist\\n         \\n\\n\\n\\n\\n\\n\\n\\n\\n\\n\\n\\n\\n\\n\\n\\n\\n                    The Lord Is My Shepherd\\n                   \\n\\n\\n\\n\\n\\n\\n                       Eastman Johnson\\n                      \\n\\n\\n\\n\\n                    1863\\n                   \\n\\n                    oil on wood\\n                   \\n\\n\\n\\n\\n\\n\\n\\n\\n\\n\\n\\n\\n\\n\\n                    Nantucket School of Philosophy\\n                   \\n\\n\\n\\n\\n\\n\\n                       Henry Wolf\\n                      \\n\\n\\n\\n                       Eastman Johnson\\n                      \\n\\n\\n\\n\\n                    1894\\n                   \\n\\n                    wood engraving on paper\\n                   \\n\\n\\n\\n\\n\\n\\n\\n\\n\\n\\n\\n\\n\\n\\n                    The Reprimand\\n                   \\n\\n\\n\\n\\n\\n\\n                       Walter Shirlaw\\n                      \\n\\n\\n\\n                       Eastman Johnson\\n                      \\n\\n\\n\\n\\n                    ca. 1880\\n                   \\n\\n                    etching and chine-colle on paper\\n                   \\n\\n\\n\\n\\n\\n\\n\\n\\n\\n\\n\\n\\n\\n\\n                    Portrait of Mrs. Eastman Johnson\\n                   \\n\\n\\n\\n\\n\\n\\n                       Eastman Johnson\\n                      \\n\\n\\n\\n\\n                    ca. 1888\\n                   \\n\\n                    oil on canvas\\n                   \\n\\n\\n\\n\\n\\n\\n\\n\\n\\n\\n\\n\\n\\n          More Artworks from the Collection\\n         \\n\\n\\n\\n\\n\\n\\n\\n\\n\\n\\n\\n\\n\\n\\n\\n                   Torre di Schiavi\\n                  \\n\\n\\n\\n\\n\\n\\n                      Thomas Hiram Hotchkiss\\n                     \\n\\n\\n\\n\\n                   1865\\n                  \\n\\n                   oil on canvas\\n                  \\n\\n\\n\\n\\n\\n\\n\\n\\n\\n\\n\\n\\n\\n\\n                   Man in Yellow Chair\\n                  \\n\\n\\n\\n\\n\\n\\n                      Unidentified\\n                     \\n\\n\\n\\n\\n                   ca. 1820\\n                  \\n\\n                   oil on canvas\\n                  \\n\\n\\n\\n\\n\\n\\n\\n\\n\\n\\n\\n\\n\\n\\n                   Kee-mo-rá-nia, No English, a Dandy\\n                  \\n\\n\\n\\n\\n\\n\\n                      George Catlin\\n                     \\n\\n\\n\\n\\n                   1830\\n                  \\n\\n                   oil on canvas\\n                  \\n\\n\\n\\n\\n\\n\\n\\n\\n\\n\\n\\n\\n\\n\\n                   Hindu Merchants\\n                  \\n\\n\\n\\n\\n\\n\\n                      Edwin Lord Weeks\\n                     \\n\\n\\n\\n\\n                   ca. 1885\\n                  \\n\\n                   oil on canvas\\n                  \\n\\n\\n\\n\\n\\n\\n\\n\\n\\n\\n\\n\\n          Recently Viewed\\n         \\n\\n\\n\\n\\n\\n\\n\\n\\n\\n\\n\\n\\n\\n\\n\\n                   The Farm\\n                  \\n\\n\\n\\n\\n\\n\\n                      Kenjiro Nomura\\n                     \\n\\n\\n\\n\\n                   1934\\n                  \\n\\n                   oil on canvas\\n                  \\n\\n\\n\\n\\n\\n\\n\\n\\n\\n\\n\\n\\n\\n\\n\\n\\n\\n\\n            Sign up for news and updates\\n           \\n\\n\\n\\n\\n\\n\\n\\n                 Email\\n                \\n\\n\\n\\n\\n\\n\\n\\n\\n\\n\\n\\n\\n\\n\\n\\n\\n\\n\\n\\n\\n\\n\\n\\n\\n\\n\\n           Legal\\n          \\n\\n\\n\\n             Smithsonian Institution\\n            \\n\\n\\n\\n             Smithsonian Privacy Policy\\n            \\n\\n\\n\\n             Smithsonian Terms of Use\\n            \\n\\n\\n\\n             Third Party Terms of Use\\n            \\n\\n\\n\\n\\n\\n           Site Links\\n          \\n\\n\\n\\n             Contact Us\\n            \\n\\n\\n\\n             Press Room\\n            \\n\\n\\n\\n             Blog\\n            \\n\\n\\n\\n             Shop the Museum Stores\\n            \\n\\n\\n\\n\\n\\n\\n\\n\\n\\n\\n\\n\\n\\n\\n\\n\\n\\n\\n\\n\\n\\n\\n\\n\\n\\n\\n\\n\\n\\n\\n\\n\\n\\n\\n\\n               Connect on Social Media\\n              \\n\\n\\n              #atSAAM\\n             \\n\\n              #RenwickGallery\\n             \\n\\n\\n\\n\\n\\n\\n\\n\\n\\n\\n\\n\\n\\n\\n\\n\\n\\n\\n\\n\\n\\n\\n\\n\\n\\n\\n\\n\\n          Close\\n         \\n\\n\\n\\n\\n\\n\\n\\n\\n           Before you leave...\\n          \\n\\n           Keep in touch by subscribing to news and updates from SAAM and Renwick Gallery.\\n          \\n\\n\\n\\n             Subscribe to Email Newsletter\\n            \\n\\n\\n\\n\\n\\n\\n\\n\\n\\n\\n\\n\\n\\n\\n\\n\\n\\n\\n\\n\\n\\n\\n       Visit\\n      \\n\\n\\n\\n         SAAM\\n        \\n\\n\\n\\n           Kogod Courtyard\\n          \\n\\n\\n\\n           Luce Foundation Center\\n          \\n\\n\\n\\n             Luce Programs & Activities\\n            \\n\\n\\n\\n             Luce Unplugged\\n            \\n\\n\\n\\n             Luce Scavenger Hunts\\n            \\n\\n\\n\\n             Luce Center Audio Tour\\n            \\n\\n\\n\\n               Craft\\n              \\n\\n\\n\\n               Craft - Staff\\n              \\n\\n\\n\\n               Painting\\n              \\n\\n\\n\\n               Painting - Staff\\n              \\n\\n\\n\\n               Sculpture\\n              \\n\\n\\n\\n               Sculpture - Staff\\n              \\n\\n\\n\\n               Folk & Self-Taught\\n              \\n\\n\\n\\n               Folk & Self-Taught - Staff\\n              \\n\\n\\n\\n\\n\\n\\n\\n           Lunder Conservation Center\\n          \\n\\n\\n\\n           Courtyard Cafe\\n          \\n\\n\\n\\n           McEvoy Auditorium\\n          \\n\\n\\n\\n           SAAM Store\\n          \\n\\n\\n\\n\\n\\n         Renwick Gallery\\n        \\n\\n\\n\\n           Renwick Store\\n          \\n\\n\\n\\n\\n\\n         Calendar of Events\\n        \\n\\n\\n\\n         Museum Tours\\n        \\n\\n\\n\\n           Group Tour Request Form\\n          \\n\\n\\n\\n           Girl Scout Programs\\n          \\n\\n\\n\\n\\n\\n         Accessibility\\n        \\n\\n\\n\\n         Family-friendly Activities\\n        \\n\\n\\n\\n         Guidelines and Policies\\n        \\n\\n\\n\\n         Current Exhibitions\\n        \\n\\n\\n\\n\\n\\n       Art + Artists\\n      \\n\\n\\n\\n         Current Exhibitions\\n        \\n\\n\\n\\n           Upcoming Exhibitions\\n          \\n\\n\\n\\n           Past Exhibitions\\n          \\n\\n\\n\\n           Traveling Exhibitions\\n          \\n\\n\\n\\n\\n\\n         Browse Artists A-Z\\n        \\n\\n\\n\\n         Browse Artworks by Category\\n        \\n\\n\\n\\n         Browse Artists by State\\n        \\n\\n\\n\\n         Collection Highlights\\n        \\n\\n\\n\\n           Early America\\n          \\n\\n\\n\\n           Nineteenth-Century Art\\n          \\n\\n\\n\\n           Twentieth-Century Art\\n          \\n\\n\\n\\n           Contemporary Art\\n          \\n\\n\\n\\n           Film and Media Arts\\n          \\n\\n\\n\\n           Folk and Self-Taught Art\\n          \\n\\n\\n\\n           Craft Collections\\n          \\n\\n\\n\\n           African American Art\\n          \\n\\n\\n\\n           Latino Art\\n          \\n\\n\\n\\n           Photography\\n          \\n\\n\\n\\n           Sculpture\\n          \\n\\n\\n\\n           Works on Paper\\n          \\n\\n\\n\\n\\n\\n         Lunder Conservation Center\\n        \\n\\n\\n\\n           Our Conservation Facility\\n          \\n\\n\\n\\n             Frame Conservation Studio\\n            \\n\\n\\n\\n             Painting Conservation Studio\\n            \\n\\n\\n\\n             Painting Conservation Lab\\n            \\n\\n\\n\\n             Paper Conservation Lab\\n            \\n\\n\\n\\n             Objects Conservation Lab\\n            \\n\\n\\n\\n\\n\\n           Conservation Programs and Tours\\n          \\n\\n\\n\\n             Professional Programs\\n            \\n\\n\\n\\n\\n\\n           Before and After Conservation\\n          \\n\\n\\n\\n           Conservation Videos\\n          \\n\\n\\n\\n\\n\\n         New Acquisitions\\n        \\n\\n\\n\\n         Rights and Reproductions\\n        \\n\\n\\n\\n         Artwork Loans\\n        \\n\\n\\n\\n           Traveling Exhibition Program\\n          \\n\\n\\n\\n\\n\\n         Museum Videos\\n        \\n\\n\\n\\n         Museum Books\\n        \\n\\n\\n\\n\\n\\n       Research\\n      \\n\\n\\n\\n         American Art Journal\\n        \\n\\n\\n\\n         Publication Prizes\\n        \\n\\n\\n\\n           Charles C. Eldredge Prize\\n          \\n\\n\\n\\n             Eldredge Prize Recipients\\n            \\n\\n\\n\\n\\n\\n           Patricia and Phillip Frost Essay Award\\n          \\n\\n\\n\\n           Terra International Essay Prize\\n          \\n\\n\\n\\n\\n\\n         Nam June Paik Archive\\n        \\n\\n\\n\\n           Using the Nam June Paik Archive - Access and Hours\\n          \\n\\n\\n\\n           About Nam June Paik\\n          \\n\\n\\n\\n           Highlights from the Nam June Paik Archive\\n          \\n\\n\\n\\n           Online Resources for Researching Nam June Paik\\n          \\n\\n\\n\\n             Otto Piene Interview\\n            \\n\\n\\n\\n             Carol Brandenburg Recollections\\n            \\n\\n\\n\\n             Russell Connor Interview\\n            \\n\\n\\n\\n             Stephen Beck Interview\\n            \\n\\n\\n\\n             John G. Hanhardt Interview\\n            \\n\\n\\n\\n\\n\\n           Loan Policy for Nam June Paik Archive\\n          \\n\\n\\n\\n           Publication Requests for the Nam June Paik Archive\\n          \\n\\n\\n\\n\\n\\n         Photograph Archives\\n        \\n\\n\\n\\n         Joseph Cornell Study Center\\n        \\n\\n\\n\\n         Inventories of American Painting and Sculpture\\n        \\n\\n\\n\\n           Save Outdoor Sculpture!\\n          \\n\\n\\n\\n\\n\\n         Pre-1877 Exhibition Catalogue Index\\n        \\n\\n\\n\\n         Scholarly Symposia\\n        \\n\\n\\n\\n         Researching Your Art\\n        \\n\\n\\n\\n           First Steps\\n          \\n\\n\\n\\n           Biographical Resources\\n          \\n\\n\\n\\n           Signatures, Monograms, and Markings\\n          \\n\\n\\n\\n           Exhibition Guides and Provenance\\n          \\n\\n\\n\\n           Encyclopedias and Surveys\\n          \\n\\n\\n\\n           How Much Is Your Object Worth?\\n          \\n\\n\\n\\n           Want to Research Prints or Find Posters?\\n          \\n\\n\\n\\n           How to Care for Your Collections\\n          \\n\\n\\n\\n           Want to Learn More?\\n          \\n\\n\\n\\n\\n\\n         Fellowships\\n        \\n\\n\\n\\n           Fellowships FAQ\\n          \\n\\n\\n\\n           Fellows by Year\\n          \\n\\n\\n\\n           Terra Foundation Fellowships\\n          \\n\\n\\n\\n           Contribute to our Fellowships\\n          \\n\\n\\n\\n\\n\\n         Internships\\n        \\n\\n\\n\\n         AA/PG Library\\n        \\n\\n\\n\\n\\n\\n       Education\\n      \\n\\n\\n\\n         For K-12 Teachers\\n        \\n\\n\\n\\n           Field Trips and School Tours\\n          \\n\\n\\n\\n             List of SAAM School Tours\\n            \\n\\n\\n\\n             List of Renwick School Tours\\n            \\n\\n\\n\\n             School Tour Request Form\\n            \\n\\n\\n\\n\\n\\n           Teacher Guides and Resources\\n          \\n\\n\\n\\n             Social Studies\\n            \\n\\n\\n\\n             Language Arts\\n            \\n\\n\\n\\n             Art and the African American Experience\\n            \\n\\n\\n\\n             Arte Latino\\n            \\n\\n\\n\\n             Science and Art\\n            \\n\\n\\n\\n             Pre-Visit Activities\\n            \\n\\n\\n\\n\\n\\n           Classroom Videoconferences\\n          \\n\\n\\n\\n           Professional Development\\n          \\n\\n\\n\\n             Summer Institutes for Teachers\\n            \\n\\n\\n\\n               Tips for Funding\\n              \\n\\n\\n\\n\\n\\n\\n\\n           Student Showcase\\n          \\n\\n\\n\\n\\n\\n         For Adult Learners\\n        \\n\\n\\n\\n           Gallery Talks in ASL\\n          \\n\\n\\n\\n           Verbal Description Tours\\n          \\n\\n\\n\\n           Museum Videos\\n          \\n\\n\\n\\n           House Calls\\n          \\n\\n\\n\\n\\n\\n         For Higher Education Instructors\\n        \\n\\n\\n\\n\\n\\n       About\\n      \\n\\n\\n\\n         Museum History\\n        \\n\\n\\n\\n           SAAM Architectural History\\n          \\n\\n\\n\\n             Plans\\n            \\n\\n\\n\\n\\n\\n           Renwick Architectural history\\n          \\n\\n\\n\\n           Early Patrons\\n          \\n\\n\\n\\n\\n\\n         Contemporary Artist Awards\\n        \\n\\n\\n\\n         Volunteer Opportunities\\n        \\n\\n\\n\\n         Careers\\n        \\n\\n\\n\\n         Contact Us\\n        \\n\\n\\n\\n           Inquiries About Donating Artworks\\n          \\n\\n\\n\\n\\n\\n         Connect on Social Media\\n        \\n\\n\\n\\n         E-news Sign Up\\n        \\n\\n\\n\\n         Event Venues and Spaces\\n        \\n\\n\\n\\n           Event Spaces at SAAM\\n          \\n\\n\\n\\n           Event Spaces at Renwick\\n          \\n\\n\\n\\n\\n\\n         Press Room\\n        \\n\\n\\n\\n         Blog\\n        \\n\\n\\n\\n         Shop the Museum Stores\\n        \\n\\n\\n\\n         Videos\\n        \\n\\n\\n\\n         Webcasts\\n        \\n\\n\\n\\n\\n\\n       Donate\\n      \\n\\n\\n\\n         Join SAAM Creatives\\n        \\n\\n\\n\\n         Join the Director’s Circle\\n        \\n\\n\\n\\n         Corporate Patrons\\n        \\n\\n\\n\\n         Donating Artworks\\n        \\n\\n\\n\\n         Planned Giving\\n        \\n\\n\\n\\n\\n\\n\\n\\n   {\"path\":{\"baseUrl\":\"\\\\/\",\"scriptPath\":null,\"pathPrefix\":\"\",\"currentPath\":\"node\\\\/22130\",\"currentPathIsAdmin\":false,\"isFront\":false,\"currentLanguage\":\"en\"},\"pluralDelimiter\":\"\\\\u0003\",\"ajaxPageState\":{\"libraries\":\"addtoany\\\\/addtoany,bootstrap\\\\/popover,core\\\\/drupal.autocomplete,core\\\\/html5shiv,extlink\\\\/drupal.extlink,muse3\\\\/components,muse3\\\\/font-awesome,paragraphs\\\\/drupal.paragraphs.unpublished,pentimento\\\\/cookie,saam_menu\\\\/saam_menu.hammerjs,saam_menu\\\\/saam_menu.styling,saam_menu\\\\/saam_menu.superfish_hoverintent,system\\\\/base,views\\\\/views.ajax,views\\\\/views.module,views_infinite_scroll\\\\/views-infinite-scroll\",\"theme\":\"muse3\",\"theme_token\":null},\"ajaxTrustedUrl\":{\"\\\\/search\":true},\"pentimento\":{\"currentNode\":{\"nid\":\"22130\",\"uuid\":\"f4945110-d2fd-4655-98f5-6806eae2c7f2\"},\"numRecent\":6,\"marketingEnabled\":false},\"data\":{\"extlink\":{\"extTarget\":true,\"extTargetNoOverride\":false,\"extNofollow\":false,\"extFollowNoOverride\":false,\"extClass\":\"ext\",\"extLabel\":\"(link is external)\",\"extImgClass\":false,\"extSubdomains\":true,\"extExclude\":\"(americanart\\\\\\\\.si\\\\\\\\.edu)|(stage\\\\\\\\.americanart\\\\\\\\.si\\\\\\\\.edu)|(saam\\\\\\\\.test)|(s3\\\\\\\\.amazonaws\\\\\\\\.com)|(edan\\\\\\\\.si\\\\\\\\.edu)\",\"extInclude\":\"\",\"extCssExclude\":\"ul.social-media-icons-list li\",\"extCssExplicit\":\"\",\"extAlert\":false,\"extAlertText\":\"This link will take you to an external web site. We are not responsible for their content.\",\"mailtoClass\":\"mailto\",\"mailtoLabel\":\"(link sends email)\"}},\"bootstrap\":{\"forms_has_error_value_toggle\":1,\"modal_animation\":1,\"modal_backdrop\":\"true\",\"modal_keyboard\":1,\"modal_show\":1,\"modal_size\":\"\",\"popover_enabled\":1,\"popover_animation\":1,\"popover_container\":\"body\",\"popover_content\":\"\",\"popover_delay\":\"0\",\"popover_html\":0,\"popover_placement\":\"right\",\"popover_selector\":\"\",\"popover_title\":\"\",\"popover_trigger\":\"click\",\"popover_trigger_autoclose\":1},\"views\":{\"ajax_path\":\"\\\\/views\\\\/ajax\",\"ajaxViews\":{\"views_dom_id:8619f2ce350b14ec08a5a61b4663469d4d806b3b581ce68a429fe87a9c4fa881\":{\"view_name\":\"more_from_this_artist\",\"view_display_id\":\"block_1\",\"view_args\":\"22130\",\"view_path\":\"\\\\/artwork\\\\/girl-i-left-behind-me-11492\",\"view_base_path\":null,\"view_dom_id\":\"8619f2ce350b14ec08a5a61b4663469d4d806b3b581ce68a429fe87a9c4fa881\",\"pager_element\":0}}},\"saam\":{\"api\":{\"key\":\"8dZdPhqca5kSK6A9JgbghULzkrlo1xBNp1pTbGin\",\"base\":\"https:\\\\/\\\\/api.si.edu\\\\/saam\\\\/v1\"}},\"user\":{\"uid\":0,\"permissionsHash\":\"3c580921538ae85f70204d55edadd44740c84ffe84334a7a375712b023256323\"}}\\n  \\n\\n\\n\\n\\n\\n\\n\\n\\n\\n\\n\\n\\n\\n\\n\\n\\n\\n\\n\\n\\n\\n\\n\\n\\n\\n\\n\\n\\n\\n\\n\\n\\n\\n\\n\\n\\n\\n\\n\\n\\n\\n\\n\\n\\n\\n\\n\\n\\n\\n\\n\\n\\n\\n\\n\\n\\n\\n\\n\\n\\n\\n\\n\\n\\n\\n\\n\\n\\n\\n\\n\\n\\n\\n\\n\\n\\n\\n\\n\\n\\n\\n\\n\\n\\n\\n\\n\\n\\n\\n\\n\\n\\n\\n\\n\\n\\n\\n\\n\\n\\n\\n\\n\\n\\n\\n\\n\\n\\n\\n\\n\\n\\n\\n\\n\\n\\n\\n\\n\\n\\n\\n\\n\\n\\n\\n\\n\\n\\n\\n\\n\\n\\n\\n\\n\\n\\n\\n\\n\\n\\n\\n\\n\\n\\n\\n\\n\\n\\n\\n\\n\\n\\n\\n\\n\\n\\n\\n'"
      ]
     },
     "execution_count": 5,
     "metadata": {},
     "output_type": "execute_result"
    }
   ],
   "source": [
    "soup.get_text()"
   ]
  },
  {
   "cell_type": "code",
   "execution_count": 14,
   "metadata": {},
   "outputs": [],
   "source": [
    "tmp = soup.find_all(class_= \"attributes dl-horizontal\")[0]"
   ]
  },
  {
   "cell_type": "code",
   "execution_count": 15,
   "metadata": {},
   "outputs": [
    {
     "data": {
      "text/plain": [
       "bs4.element.Tag"
      ]
     },
     "execution_count": 15,
     "metadata": {},
     "output_type": "execute_result"
    }
   ],
   "source": [
    "type(tmp)"
   ]
  },
  {
   "cell_type": "code",
   "execution_count": 16,
   "metadata": {},
   "outputs": [
    {
     "data": {
      "text/plain": [
       "<dl class=\"attributes dl-horizontal\">\n",
       "<dt class=\"field--label title\">\n",
       "               Title\n",
       "              </dt>\n",
       "<dd class=\"field__items\">\n",
       "<div class=\"field--item\">\n",
       "                The Girl I Left Behind Me\n",
       "               </div>\n",
       "</dd>\n",
       "<dt class=\"field--label artist\">\n",
       "               Artist\n",
       "              </dt>\n",
       "<dd class=\"field--items\">\n",
       "<div class=\"field--item\">\n",
       "<a href=\"/artist/eastman-johnson-2473\">\n",
       "                 Eastman Johnson\n",
       "                </a>\n",
       "</div>\n",
       "</dd>\n",
       "<dt class=\"field--label date\">\n",
       "               Date\n",
       "              </dt>\n",
       "<dd class=\"field--item\">\n",
       "               ca. 1872\n",
       "              </dd>\n",
       "<dt class=\"field--label on-view-locations\">\n",
       "               On View\n",
       "              </dt>\n",
       "<dd class=\"field--item on-view-locations terms\">\n",
       "<ol class=\"field field--name-field-on-view-locations field--type-entity-reference field--label-hidden breadcrumb\">\n",
       "<li>\n",
       "<a href=\"/locations/smithsonian-american-art-museum\">\n",
       "                  Smithsonian American Art Museum\n",
       "                 </a>\n",
       "</li>\n",
       "<li>\n",
       "<a href=\"/locations/smithsonian-american-art-museum-2nd-floor\">\n",
       "                  2nd Floor\n",
       "                 </a>\n",
       "</li>\n",
       "<li>\n",
       "<a href=\"/locations/smithsonian-american-art-museum-2nd-floor-east-wing\">\n",
       "                  East Wing\n",
       "                 </a>\n",
       "</li>\n",
       "</ol>\n",
       "</dd>\n",
       "<dt class=\"field--label dimensions\">\n",
       "               Dimensions\n",
       "              </dt>\n",
       "<dd class=\"field--item\">\n",
       "<div class=\"field field--name-field-dimensions field--type-string-long field--label-hidden field--item\">\n",
       "                42 x 34 7/8 in. (106.7 x 88.7 cm.)\n",
       "               </div>\n",
       "</dd>\n",
       "<dt class=\"field--label copyright\">\n",
       "               Copyright\n",
       "              </dt>\n",
       "<dd class=\"field--item\">\n",
       "</dd>\n",
       "<dt class=\"field--label credit\">\n",
       "               Credit Line\n",
       "              </dt>\n",
       "<dd class=\"field--item\">\n",
       "<p>\n",
       "                Smithsonian American Art Museum\n",
       "               </p>\n",
       "<p>\n",
       "                Museum purchase made possible in part by Mrs. Alexander Hamilton Rice in memory of her husband and by Ralph Cross Johnson\n",
       "               </p>\n",
       "</dd>\n",
       "<dt class=\"field--label mediums terms\">\n",
       "               Mediums\n",
       "              </dt>\n",
       "<dd class=\"field--item\">\n",
       "<div class=\"field field--name-field-mediums field--type-entity-reference field--label-hidden field--items\">\n",
       "<div class=\"field--item\">\n",
       "<a href=\"/mediums/oil\" hreflang=\"en\">\n",
       "                  oil\n",
       "                 </a>\n",
       "</div>\n",
       "</div>\n",
       "</dd>\n",
       "<dt class=\"field--label\">\n",
       "               Mediums Description\n",
       "              </dt>\n",
       "<dd class=\"field--item\">\n",
       "               oil on canvas\n",
       "              </dd>\n",
       "<dt class=\"field--label classifications terms\">\n",
       "               Classifications\n",
       "              </dt>\n",
       "<dd class=\"field--item\">\n",
       "<div class=\"field field--name-field-classifications field--type-entity-reference field--label-hidden field--items\">\n",
       "<div class=\"field--item\">\n",
       "<a href=\"/classifications/painting\" hreflang=\"en\">\n",
       "                  Painting\n",
       "                 </a>\n",
       "</div>\n",
       "</div>\n",
       "</dd>\n",
       "<dt class=\"field--label\">\n",
       "               Keywords\n",
       "              </dt>\n",
       "<dd class=\"field--item\">\n",
       "<ul class=\"ontology-list\">\n",
       "<li>\n",
       "                 Figure female\n",
       "                </li>\n",
       "<li>\n",
       "                 Landscape – weather – wind\n",
       "                </li>\n",
       "<li>\n",
       "                 History – United States – Civil War\n",
       "                </li>\n",
       "<li>\n",
       "                 State of being – emotion – fear\n",
       "                </li>\n",
       "<li>\n",
       "                 Figure female – full length\n",
       "                </li>\n",
       "<li>\n",
       "                 Object – written matter – book\n",
       "                </li>\n",
       "</ul>\n",
       "</dd>\n",
       "<dt class=\"field--label\">\n",
       "               Object Number\n",
       "              </dt>\n",
       "<dd class=\"field--item ascension\">\n",
       "<div class=\"field field--name-field-object-number field--type-string field--label-hidden field--item\">\n",
       "                1986.79\n",
       "               </div>\n",
       "</dd>\n",
       "<dt class=\"field--label\">\n",
       "               Palette\n",
       "              </dt>\n",
       "<dd class=\"field--item hex-colors\">\n",
       "<div class=\"field field--name-field-hex-color-codes field--type-string field--label-hidden hex-colors\">\n",
       "<ul class=\"field__items\">\n",
       "<li>\n",
       "<a class=\"btn-color btn\" href=\"/collections/colors/A59E82\" style=\"background-color: #A59E82\" title=\"#A59E82\">\n",
       "                   #A59E82\n",
       "                  </a>\n",
       "</li>\n",
       "<li>\n",
       "<a class=\"btn-color btn\" href=\"/collections/colors/382C16\" style=\"background-color: #382C16\" title=\"#382C16\">\n",
       "                   #382C16\n",
       "                  </a>\n",
       "</li>\n",
       "<li>\n",
       "<a class=\"btn-color btn\" href=\"/collections/colors/7B6735\" style=\"background-color: #7B6735\" title=\"#7B6735\">\n",
       "                   #7B6735\n",
       "                  </a>\n",
       "</li>\n",
       "<li>\n",
       "<a class=\"btn-color btn\" href=\"/collections/colors/82361C\" style=\"background-color: #82361C\" title=\"#82361C\">\n",
       "                   #82361C\n",
       "                  </a>\n",
       "</li>\n",
       "<li>\n",
       "<a class=\"btn-color btn\" href=\"/collections/colors/EEE6DB\" style=\"background-color: #EEE6DB\" title=\"#EEE6DB\">\n",
       "                   #EEE6DB\n",
       "                  </a>\n",
       "</li>\n",
       "</ul>\n",
       "</div>\n",
       "</dd>\n",
       "<dt class=\"field--label visually-hidden\">\n",
       "               Linked Open Data\n",
       "              </dt>\n",
       "<dd class=\"field--item lod\">\n",
       "<a href=\"http://edan.si.edu/saam/id/object/1986.79\">\n",
       "                Linked Open Data URI\n",
       "               </a>\n",
       "<a class=\"info-link\" data-original-title=\"Here's some info about LOD\" data-placement=\"top\" data-toggle=\"tooltip\" href=\"/about/lod\" title=\"\">\n",
       "<span class=\"glyphicon glyphicon-question-sign\" data-placement=\"bottom\" data-toggle=\"tooltip\">\n",
       "</span>\n",
       "</a>\n",
       "</dd>\n",
       "</dl>"
      ]
     },
     "execution_count": 16,
     "metadata": {},
     "output_type": "execute_result"
    }
   ],
   "source": [
    "tmp"
   ]
  },
  {
   "cell_type": "code",
   "execution_count": 19,
   "metadata": {},
   "outputs": [
    {
     "data": {
      "text/plain": [
       "[<div class=\"field--item\">\n",
       "                 The Girl I Left Behind Me\n",
       "                </div>, <div class=\"field--item\">\n",
       " <a href=\"/artist/eastman-johnson-2473\">\n",
       "                  Eastman Johnson\n",
       "                 </a>\n",
       " </div>, <dd class=\"field--item\">\n",
       "                ca. 1872\n",
       "               </dd>, <dd class=\"field--item on-view-locations terms\">\n",
       " <ol class=\"field field--name-field-on-view-locations field--type-entity-reference field--label-hidden breadcrumb\">\n",
       " <li>\n",
       " <a href=\"/locations/smithsonian-american-art-museum\">\n",
       "                   Smithsonian American Art Museum\n",
       "                  </a>\n",
       " </li>\n",
       " <li>\n",
       " <a href=\"/locations/smithsonian-american-art-museum-2nd-floor\">\n",
       "                   2nd Floor\n",
       "                  </a>\n",
       " </li>\n",
       " <li>\n",
       " <a href=\"/locations/smithsonian-american-art-museum-2nd-floor-east-wing\">\n",
       "                   East Wing\n",
       "                  </a>\n",
       " </li>\n",
       " </ol>\n",
       " </dd>, <dd class=\"field--item\">\n",
       " <div class=\"field field--name-field-dimensions field--type-string-long field--label-hidden field--item\">\n",
       "                 42 x 34 7/8 in. (106.7 x 88.7 cm.)\n",
       "                </div>\n",
       " </dd>, <div class=\"field field--name-field-dimensions field--type-string-long field--label-hidden field--item\">\n",
       "                 42 x 34 7/8 in. (106.7 x 88.7 cm.)\n",
       "                </div>, <dd class=\"field--item\">\n",
       " </dd>, <dd class=\"field--item\">\n",
       " <p>\n",
       "                 Smithsonian American Art Museum\n",
       "                </p>\n",
       " <p>\n",
       "                 Museum purchase made possible in part by Mrs. Alexander Hamilton Rice in memory of her husband and by Ralph Cross Johnson\n",
       "                </p>\n",
       " </dd>, <dd class=\"field--item\">\n",
       " <div class=\"field field--name-field-mediums field--type-entity-reference field--label-hidden field--items\">\n",
       " <div class=\"field--item\">\n",
       " <a href=\"/mediums/oil\" hreflang=\"en\">\n",
       "                   oil\n",
       "                  </a>\n",
       " </div>\n",
       " </div>\n",
       " </dd>, <div class=\"field--item\">\n",
       " <a href=\"/mediums/oil\" hreflang=\"en\">\n",
       "                   oil\n",
       "                  </a>\n",
       " </div>, <dd class=\"field--item\">\n",
       "                oil on canvas\n",
       "               </dd>, <dd class=\"field--item\">\n",
       " <div class=\"field field--name-field-classifications field--type-entity-reference field--label-hidden field--items\">\n",
       " <div class=\"field--item\">\n",
       " <a href=\"/classifications/painting\" hreflang=\"en\">\n",
       "                   Painting\n",
       "                  </a>\n",
       " </div>\n",
       " </div>\n",
       " </dd>, <div class=\"field--item\">\n",
       " <a href=\"/classifications/painting\" hreflang=\"en\">\n",
       "                   Painting\n",
       "                  </a>\n",
       " </div>, <dd class=\"field--item\">\n",
       " <ul class=\"ontology-list\">\n",
       " <li>\n",
       "                  Figure female\n",
       "                 </li>\n",
       " <li>\n",
       "                  Landscape – weather – wind\n",
       "                 </li>\n",
       " <li>\n",
       "                  History – United States – Civil War\n",
       "                 </li>\n",
       " <li>\n",
       "                  State of being – emotion – fear\n",
       "                 </li>\n",
       " <li>\n",
       "                  Figure female – full length\n",
       "                 </li>\n",
       " <li>\n",
       "                  Object – written matter – book\n",
       "                 </li>\n",
       " </ul>\n",
       " </dd>, <dd class=\"field--item ascension\">\n",
       " <div class=\"field field--name-field-object-number field--type-string field--label-hidden field--item\">\n",
       "                 1986.79\n",
       "                </div>\n",
       " </dd>, <div class=\"field field--name-field-object-number field--type-string field--label-hidden field--item\">\n",
       "                 1986.79\n",
       "                </div>, <dd class=\"field--item hex-colors\">\n",
       " <div class=\"field field--name-field-hex-color-codes field--type-string field--label-hidden hex-colors\">\n",
       " <ul class=\"field__items\">\n",
       " <li>\n",
       " <a class=\"btn-color btn\" href=\"/collections/colors/A59E82\" style=\"background-color: #A59E82\" title=\"#A59E82\">\n",
       "                    #A59E82\n",
       "                   </a>\n",
       " </li>\n",
       " <li>\n",
       " <a class=\"btn-color btn\" href=\"/collections/colors/382C16\" style=\"background-color: #382C16\" title=\"#382C16\">\n",
       "                    #382C16\n",
       "                   </a>\n",
       " </li>\n",
       " <li>\n",
       " <a class=\"btn-color btn\" href=\"/collections/colors/7B6735\" style=\"background-color: #7B6735\" title=\"#7B6735\">\n",
       "                    #7B6735\n",
       "                   </a>\n",
       " </li>\n",
       " <li>\n",
       " <a class=\"btn-color btn\" href=\"/collections/colors/82361C\" style=\"background-color: #82361C\" title=\"#82361C\">\n",
       "                    #82361C\n",
       "                   </a>\n",
       " </li>\n",
       " <li>\n",
       " <a class=\"btn-color btn\" href=\"/collections/colors/EEE6DB\" style=\"background-color: #EEE6DB\" title=\"#EEE6DB\">\n",
       "                    #EEE6DB\n",
       "                   </a>\n",
       " </li>\n",
       " </ul>\n",
       " </div>\n",
       " </dd>, <dd class=\"field--item lod\">\n",
       " <a href=\"http://edan.si.edu/saam/id/object/1986.79\">\n",
       "                 Linked Open Data URI\n",
       "                </a>\n",
       " <a class=\"info-link\" data-original-title=\"Here's some info about LOD\" data-placement=\"top\" data-toggle=\"tooltip\" href=\"/about/lod\" title=\"\">\n",
       " <span class=\"glyphicon glyphicon-question-sign\" data-placement=\"bottom\" data-toggle=\"tooltip\">\n",
       " </span>\n",
       " </a>\n",
       " </dd>]"
      ]
     },
     "execution_count": 19,
     "metadata": {},
     "output_type": "execute_result"
    }
   ],
   "source": [
    "tmp.find_all(class_ = \"field--item\")"
   ]
  },
  {
   "cell_type": "code",
   "execution_count": 24,
   "metadata": {},
   "outputs": [
    {
     "data": {
      "text/plain": [
       "'The Girl I Left Behind Me'"
      ]
     },
     "execution_count": 24,
     "metadata": {},
     "output_type": "execute_result"
    }
   ],
   "source": [
    "tmp.find_all(class_ = \"field--item\")[0].get_text().strip()"
   ]
  },
  {
   "cell_type": "code",
   "execution_count": 25,
   "metadata": {},
   "outputs": [],
   "source": [
    "jj = tmp.find_all(class_ = \"field--item\")"
   ]
  },
  {
   "cell_type": "code",
   "execution_count": 26,
   "metadata": {},
   "outputs": [
    {
     "data": {
      "text/plain": [
       "18"
      ]
     },
     "execution_count": 26,
     "metadata": {},
     "output_type": "execute_result"
    }
   ],
   "source": [
    "len(jj)"
   ]
  },
  {
   "cell_type": "code",
   "execution_count": 28,
   "metadata": {},
   "outputs": [],
   "source": [
    "r=tmp.find(class_=\"field--label artist\")"
   ]
  },
  {
   "cell_type": "code",
   "execution_count": 39,
   "metadata": {},
   "outputs": [
    {
     "data": {
      "text/plain": [
       "'\\n               Artist\\n              '"
      ]
     },
     "execution_count": 39,
     "metadata": {},
     "output_type": "execute_result"
    }
   ],
   "source": [
    "r.next_element"
   ]
  },
  {
   "cell_type": "code",
   "execution_count": 41,
   "metadata": {},
   "outputs": [
    {
     "data": {
      "text/plain": [
       "'/artist/eastman-johnson-2473'"
      ]
     },
     "execution_count": 41,
     "metadata": {},
     "output_type": "execute_result"
    }
   ],
   "source": [
    "tmp.find_all(class_ = \"field--item\")[1].a[\"href\"]"
   ]
  },
  {
   "cell_type": "code",
   "execution_count": 42,
   "metadata": {},
   "outputs": [
    {
     "data": {
      "text/plain": [
       "'ca. 1872'"
      ]
     },
     "execution_count": 42,
     "metadata": {},
     "output_type": "execute_result"
    }
   ],
   "source": [
    "tmp.find_all(class_ = \"field--item\")[2].get_text().strip()"
   ]
  },
  {
   "cell_type": "code",
   "execution_count": 51,
   "metadata": {},
   "outputs": [
    {
     "data": {
      "text/plain": [
       "'A young girl stands on a promontory, her hair streaming in the wind. The path before her ends, so she must either retrace her steps or try to find a different way forward. Johnson called this painting\\n                \\n                 The Girl I Left Behind Me\\n                \\n                , invoking an Irish ballad that was popular with both the Union and Confederate armies during the Civil War. In doing so, the artist opens the possibility that this young girl is doing more than waiting for the return of her husband. Her wedding ring, glinting in the light, speaks of commitment to her union, but is Johnson referring to her personal life or to the nation? The split-rail fence below her divides the landscape, and the fog surrounding her suggests a world fraught with ambivalence. She appears to wait for a sign of what will come next.'"
      ]
     },
     "execution_count": 51,
     "metadata": {},
     "output_type": "execute_result"
    }
   ],
   "source": [
    "soup.find_all(class_ = \"field field--name-field-gallery-label field--type-text-long field--label-above\")[0].find(class_=\"field--item\").get_text().strip()"
   ]
  },
  {
   "cell_type": "code",
   "execution_count": 85,
   "metadata": {},
   "outputs": [],
   "source": [
    "items = tmp.find_all(\"dd\")"
   ]
  },
  {
   "cell_type": "code",
   "execution_count": 86,
   "metadata": {},
   "outputs": [],
   "source": [
    "labels = tmp.find_all(\"dt\")"
   ]
  },
  {
   "cell_type": "code",
   "execution_count": 87,
   "metadata": {},
   "outputs": [
    {
     "data": {
      "text/plain": [
       "14"
      ]
     },
     "execution_count": 87,
     "metadata": {},
     "output_type": "execute_result"
    }
   ],
   "source": [
    "len(labels)"
   ]
  },
  {
   "cell_type": "code",
   "execution_count": 88,
   "metadata": {},
   "outputs": [
    {
     "data": {
      "text/plain": [
       "14"
      ]
     },
     "execution_count": 88,
     "metadata": {},
     "output_type": "execute_result"
    }
   ],
   "source": [
    "len(items)"
   ]
  },
  {
   "cell_type": "code",
   "execution_count": 105,
   "metadata": {},
   "outputs": [
    {
     "data": {
      "text/plain": [
       "[<dt class=\"field--label title\">\n",
       "                Title\n",
       "               </dt>, <dt class=\"field--label artist\">\n",
       "                Artist\n",
       "               </dt>, <dt class=\"field--label date\">\n",
       "                Date\n",
       "               </dt>, <dt class=\"field--label on-view-locations\">\n",
       "                On View\n",
       "               </dt>, <dt class=\"field--label dimensions\">\n",
       "                Dimensions\n",
       "               </dt>, <dt class=\"field--label copyright\">\n",
       "                Copyright\n",
       "               </dt>, <dt class=\"field--label credit\">\n",
       "                Credit Line\n",
       "               </dt>, <dt class=\"field--label mediums terms\">\n",
       "                Mediums\n",
       "               </dt>, <dt class=\"field--label\">\n",
       "                Mediums Description\n",
       "               </dt>, <dt class=\"field--label classifications terms\">\n",
       "                Classifications\n",
       "               </dt>, <dt class=\"field--label\">\n",
       "                Keywords\n",
       "               </dt>, <dt class=\"field--label\">\n",
       "                Object Number\n",
       "               </dt>, <dt class=\"field--label\">\n",
       "                Palette\n",
       "               </dt>, <dt class=\"field--label visually-hidden\">\n",
       "                Linked Open Data\n",
       "               </dt>]"
      ]
     },
     "execution_count": 105,
     "metadata": {},
     "output_type": "execute_result"
    }
   ],
   "source": [
    "labels"
   ]
  },
  {
   "cell_type": "code",
   "execution_count": 106,
   "metadata": {},
   "outputs": [
    {
     "data": {
      "text/plain": [
       "[<dd class=\"field__items\">\n",
       " <div class=\"field--item\">\n",
       "                 The Girl I Left Behind Me\n",
       "                </div>\n",
       " </dd>, <dd class=\"field--items\">\n",
       " <div class=\"field--item\">\n",
       " <a href=\"/artist/eastman-johnson-2473\">\n",
       "                  Eastman Johnson\n",
       "                 </a>\n",
       " </div>\n",
       " </dd>, <dd class=\"field--item\">\n",
       "                ca. 1872\n",
       "               </dd>, <dd class=\"field--item on-view-locations terms\">\n",
       " <ol class=\"field field--name-field-on-view-locations field--type-entity-reference field--label-hidden breadcrumb\">\n",
       " <li>\n",
       " <a href=\"/locations/smithsonian-american-art-museum\">\n",
       "                   Smithsonian American Art Museum\n",
       "                  </a>\n",
       " </li>\n",
       " <li>\n",
       " <a href=\"/locations/smithsonian-american-art-museum-2nd-floor\">\n",
       "                   2nd Floor\n",
       "                  </a>\n",
       " </li>\n",
       " <li>\n",
       " <a href=\"/locations/smithsonian-american-art-museum-2nd-floor-east-wing\">\n",
       "                   East Wing\n",
       "                  </a>\n",
       " </li>\n",
       " </ol>\n",
       " </dd>, <dd class=\"field--item\">\n",
       " <div class=\"field field--name-field-dimensions field--type-string-long field--label-hidden field--item\">\n",
       "                 42 x 34 7/8 in. (106.7 x 88.7 cm.)\n",
       "                </div>\n",
       " </dd>, <dd class=\"field--item\">\n",
       " </dd>, <dd class=\"field--item\">\n",
       " <p>\n",
       "                 Smithsonian American Art Museum\n",
       "                </p>\n",
       " <p>\n",
       "                 Museum purchase made possible in part by Mrs. Alexander Hamilton Rice in memory of her husband and by Ralph Cross Johnson\n",
       "                </p>\n",
       " </dd>, <dd class=\"field--item\">\n",
       " <div class=\"field field--name-field-mediums field--type-entity-reference field--label-hidden field--items\">\n",
       " <div class=\"field--item\">\n",
       " <a href=\"/mediums/oil\" hreflang=\"en\">\n",
       "                   oil\n",
       "                  </a>\n",
       " </div>\n",
       " </div>\n",
       " </dd>, <dd class=\"field--item\">\n",
       "                oil on canvas\n",
       "               </dd>, <dd class=\"field--item\">\n",
       " <div class=\"field field--name-field-classifications field--type-entity-reference field--label-hidden field--items\">\n",
       " <div class=\"field--item\">\n",
       " <a href=\"/classifications/painting\" hreflang=\"en\">\n",
       "                   Painting\n",
       "                  </a>\n",
       " </div>\n",
       " </div>\n",
       " </dd>, <dd class=\"field--item\">\n",
       " <ul class=\"ontology-list\">\n",
       " <li>\n",
       "                  Figure female\n",
       "                 </li>\n",
       " <li>\n",
       "                  Landscape – weather – wind\n",
       "                 </li>\n",
       " <li>\n",
       "                  History – United States – Civil War\n",
       "                 </li>\n",
       " <li>\n",
       "                  State of being – emotion – fear\n",
       "                 </li>\n",
       " <li>\n",
       "                  Figure female – full length\n",
       "                 </li>\n",
       " <li>\n",
       "                  Object – written matter – book\n",
       "                 </li>\n",
       " </ul>\n",
       " </dd>, <dd class=\"field--item ascension\">\n",
       " <div class=\"field field--name-field-object-number field--type-string field--label-hidden field--item\">\n",
       "                 1986.79\n",
       "                </div>\n",
       " </dd>, <dd class=\"field--item hex-colors\">\n",
       " <div class=\"field field--name-field-hex-color-codes field--type-string field--label-hidden hex-colors\">\n",
       " <ul class=\"field__items\">\n",
       " <li>\n",
       " <a class=\"btn-color btn\" href=\"/collections/colors/A59E82\" style=\"background-color: #A59E82\" title=\"#A59E82\">\n",
       "                    #A59E82\n",
       "                   </a>\n",
       " </li>\n",
       " <li>\n",
       " <a class=\"btn-color btn\" href=\"/collections/colors/382C16\" style=\"background-color: #382C16\" title=\"#382C16\">\n",
       "                    #382C16\n",
       "                   </a>\n",
       " </li>\n",
       " <li>\n",
       " <a class=\"btn-color btn\" href=\"/collections/colors/7B6735\" style=\"background-color: #7B6735\" title=\"#7B6735\">\n",
       "                    #7B6735\n",
       "                   </a>\n",
       " </li>\n",
       " <li>\n",
       " <a class=\"btn-color btn\" href=\"/collections/colors/82361C\" style=\"background-color: #82361C\" title=\"#82361C\">\n",
       "                    #82361C\n",
       "                   </a>\n",
       " </li>\n",
       " <li>\n",
       " <a class=\"btn-color btn\" href=\"/collections/colors/EEE6DB\" style=\"background-color: #EEE6DB\" title=\"#EEE6DB\">\n",
       "                    #EEE6DB\n",
       "                   </a>\n",
       " </li>\n",
       " </ul>\n",
       " </div>\n",
       " </dd>, <dd class=\"field--item lod\">\n",
       " <a href=\"http://edan.si.edu/saam/id/object/1986.79\">\n",
       "                 Linked Open Data URI\n",
       "                </a>\n",
       " <a class=\"info-link\" data-original-title=\"Here's some info about LOD\" data-placement=\"top\" data-toggle=\"tooltip\" href=\"/about/lod\" title=\"\">\n",
       " <span class=\"glyphicon glyphicon-question-sign\" data-placement=\"bottom\" data-toggle=\"tooltip\">\n",
       " </span>\n",
       " </a>\n",
       " </dd>]"
      ]
     },
     "execution_count": 106,
     "metadata": {},
     "output_type": "execute_result"
    }
   ],
   "source": [
    "items"
   ]
  },
  {
   "cell_type": "code",
   "execution_count": 114,
   "metadata": {},
   "outputs": [],
   "source": [
    "la = map(lambda x: x.get_text().strip(), labels)"
   ]
  },
  {
   "cell_type": "code",
   "execution_count": 115,
   "metadata": {},
   "outputs": [],
   "source": [
    "la = list(la)"
   ]
  },
  {
   "cell_type": "code",
   "execution_count": 116,
   "metadata": {},
   "outputs": [],
   "source": [
    "it =  map(lambda x:x.get_text().strip(), items)"
   ]
  },
  {
   "cell_type": "code",
   "execution_count": 117,
   "metadata": {},
   "outputs": [],
   "source": [
    "it = list(it)"
   ]
  },
  {
   "cell_type": "code",
   "execution_count": null,
   "metadata": {},
   "outputs": [],
   "source": []
  },
  {
   "cell_type": "code",
   "execution_count": 119,
   "metadata": {},
   "outputs": [],
   "source": [
    "inf = dict(zip(list(la), list(it)))"
   ]
  },
  {
   "cell_type": "code",
   "execution_count": 120,
   "metadata": {},
   "outputs": [
    {
     "data": {
      "text/plain": [
       "['Title',\n",
       " 'Artist',\n",
       " 'Date',\n",
       " 'On View',\n",
       " 'Dimensions',\n",
       " 'Copyright',\n",
       " 'Credit Line',\n",
       " 'Mediums',\n",
       " 'Mediums Description',\n",
       " 'Classifications',\n",
       " 'Keywords',\n",
       " 'Object Number',\n",
       " 'Palette',\n",
       " 'Linked Open Data']"
      ]
     },
     "execution_count": 120,
     "metadata": {},
     "output_type": "execute_result"
    }
   ],
   "source": [
    "list(la)"
   ]
  },
  {
   "cell_type": "code",
   "execution_count": 121,
   "metadata": {},
   "outputs": [
    {
     "data": {
      "text/plain": [
       "{'Title': 'The Girl I Left Behind Me',\n",
       " 'Artist': 'Eastman Johnson',\n",
       " 'Date': 'ca. 1872',\n",
       " 'On View': 'Smithsonian American Art Museum\\n                 \\n\\n\\n\\n                  2nd Floor\\n                 \\n\\n\\n\\n                  East Wing',\n",
       " 'Dimensions': '42 x 34 7/8 in. (106.7 x 88.7 cm.)',\n",
       " 'Copyright': '',\n",
       " 'Credit Line': 'Smithsonian American Art Museum\\n               \\n\\n                Museum purchase made possible in part by Mrs. Alexander Hamilton Rice in memory of her husband and by Ralph Cross Johnson',\n",
       " 'Mediums': 'oil',\n",
       " 'Mediums Description': 'oil on canvas',\n",
       " 'Classifications': 'Painting',\n",
       " 'Keywords': 'Figure female\\n                \\n\\n                 Landscape – weather – wind\\n                \\n\\n                 History – United States – Civil War\\n                \\n\\n                 State of being – emotion – fear\\n                \\n\\n                 Figure female – full length\\n                \\n\\n                 Object – written matter – book',\n",
       " 'Object Number': '1986.79',\n",
       " 'Palette': '#A59E82\\n                  \\n\\n\\n\\n                   #382C16\\n                  \\n\\n\\n\\n                   #7B6735\\n                  \\n\\n\\n\\n                   #82361C\\n                  \\n\\n\\n\\n                   #EEE6DB',\n",
       " 'Linked Open Data': 'Linked Open Data URI'}"
      ]
     },
     "execution_count": 121,
     "metadata": {},
     "output_type": "execute_result"
    }
   ],
   "source": [
    "inf"
   ]
  },
  {
   "cell_type": "code",
   "execution_count": 122,
   "metadata": {},
   "outputs": [
    {
     "name": "stderr",
     "output_type": "stream",
     "text": [
      "/Users/muxin/anaconda3/lib/python3.6/site-packages/bs4/__init__.py:181: UserWarning: No parser was explicitly specified, so I'm using the best available HTML parser for this system (\"lxml\"). This usually isn't a problem, but if you run this code on another system, or in a different virtual environment, it may use a different parser and behave differently.\n",
      "\n",
      "The code that caused this warning is on line 193 of the file /Users/muxin/anaconda3/lib/python3.6/runpy.py. To get rid of this warning, change code that looks like this:\n",
      "\n",
      " BeautifulSoup(YOUR_MARKUP})\n",
      "\n",
      "to this:\n",
      "\n",
      " BeautifulSoup(YOUR_MARKUP, \"lxml\")\n",
      "\n",
      "  markup_type=markup_type))\n"
     ]
    }
   ],
   "source": [
    "soup2 = BeautifulSoup(artist.read())"
   ]
  },
  {
   "cell_type": "code",
   "execution_count": 124,
   "metadata": {},
   "outputs": [],
   "source": [
    "tmp2 = soup2.find_all(class_= \"attributes dl-horizontal\")[0]"
   ]
  },
  {
   "cell_type": "code",
   "execution_count": 125,
   "metadata": {},
   "outputs": [],
   "source": [
    "items2 = tmp2.find_all(\"dd\")"
   ]
  },
  {
   "cell_type": "code",
   "execution_count": 126,
   "metadata": {},
   "outputs": [],
   "source": [
    "labels2= tmp2.find_all(\"dt\")"
   ]
  },
  {
   "cell_type": "code",
   "execution_count": 129,
   "metadata": {},
   "outputs": [],
   "source": [
    "la2 = list(map(lambda x:x.get_text().strip(), labels2))"
   ]
  },
  {
   "cell_type": "code",
   "execution_count": 130,
   "metadata": {},
   "outputs": [
    {
     "data": {
      "text/plain": [
       "['Name',\n",
       " 'Also Known as',\n",
       " 'Born',\n",
       " 'Died',\n",
       " 'Active in',\n",
       " 'Nationalities',\n",
       " 'Linked Open Data']"
      ]
     },
     "execution_count": 130,
     "metadata": {},
     "output_type": "execute_result"
    }
   ],
   "source": [
    "la2"
   ]
  },
  {
   "cell_type": "code",
   "execution_count": 131,
   "metadata": {},
   "outputs": [],
   "source": [
    "it2 = list(map(lambda x:x.get_text().strip(), items2))"
   ]
  },
  {
   "cell_type": "code",
   "execution_count": 132,
   "metadata": {},
   "outputs": [
    {
     "data": {
      "text/plain": [
       "['Kenneth M. Adams',\n",
       " 'Kenneth Miller Adams\\n                \\n\\n                 Kenneth Adams',\n",
       " 'Topeka,\\n                \\n                 Kansas\\n                \\n\\n                 1897',\n",
       " 'Albuquerque,\\n                \\n                 New Mexico\\n                \\n\\n                 1966',\n",
       " 'Taos,\\n                 \\n                  New Mexico',\n",
       " 'American',\n",
       " 'Linked Open Data URI']"
      ]
     },
     "execution_count": 132,
     "metadata": {},
     "output_type": "execute_result"
    }
   ],
   "source": [
    "it2"
   ]
  },
  {
   "cell_type": "code",
   "execution_count": 133,
   "metadata": {},
   "outputs": [
    {
     "data": {
      "text/plain": [
       "'Kenneth Miller Adams\\n                \\n\\n                 Kenneth Adams'"
      ]
     },
     "execution_count": 133,
     "metadata": {},
     "output_type": "execute_result"
    }
   ],
   "source": [
    "it2[1]"
   ]
  },
  {
   "cell_type": "code",
   "execution_count": 137,
   "metadata": {},
   "outputs": [
    {
     "data": {
      "text/plain": [
       "'1897'"
      ]
     },
     "execution_count": 137,
     "metadata": {},
     "output_type": "execute_result"
    }
   ],
   "source": [
    "it2[2].split(\"\\n\")[-1].strip()"
   ]
  },
  {
   "cell_type": "code",
   "execution_count": null,
   "metadata": {},
   "outputs": [],
   "source": []
  }
 ],
 "metadata": {
  "kernelspec": {
   "display_name": "Python 3",
   "language": "python",
   "name": "python3"
  },
  "language_info": {
   "codemirror_mode": {
    "name": "ipython",
    "version": 3
   },
   "file_extension": ".py",
   "mimetype": "text/x-python",
   "name": "python",
   "nbconvert_exporter": "python",
   "pygments_lexer": "ipython3",
   "version": "3.6.5"
  }
 },
 "nbformat": 4,
 "nbformat_minor": 2
}
